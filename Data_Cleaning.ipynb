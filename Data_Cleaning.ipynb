{
 "cells": [
  {
   "cell_type": "code",
   "execution_count": 8,
   "id": "140148a3-7061-4d5f-9b84-d8ebd64f62eb",
   "metadata": {},
   "outputs": [],
   "source": [
    "import numpy as np\n",
    "import pandas as pd"
   ]
  },
  {
   "cell_type": "code",
   "execution_count": 11,
   "id": "3be14a57-7249-4610-8917-e4f7a1dc5ef1",
   "metadata": {},
   "outputs": [],
   "source": [
    "data = np.load('EURUSD_2000_to_2025.npy', allow_pickle=True) "
   ]
  },
  {
   "cell_type": "code",
   "execution_count": 43,
   "id": "afd05750-31ed-4080-9591-ef7fe0387c7e",
   "metadata": {},
   "outputs": [],
   "source": [
    "df = pd.DataFrame(data)\n",
    "df = df.rename(columns={0: 'Date', 1: 'Time', 2:'Open', 3:'High', 4:'Low', 5:'Close', 6:'Seconds'})\n",
    "df = df.set_index('Date')\n",
    "df = df.drop('Seconds', axis = 1)\n",
    "df = df.astype({'Open': 'float64', 'High': 'float64', 'Low': 'float64', 'Close':'float64'})"
   ]
  },
  {
   "cell_type": "code",
   "execution_count": 44,
   "id": "a348fd38-44b2-4fc0-8bc8-982f27bfe584",
   "metadata": {},
   "outputs": [
    {
     "name": "stdout",
     "output_type": "stream",
     "text": [
      "Time      object\n",
      "Open     float64\n",
      "High     float64\n",
      "Low      float64\n",
      "Close    float64\n",
      "dtype: object\n",
      "             Time     Open     High      Low    Close\n",
      "Date                                                 \n",
      "2000.05.30  17:35  0.93040  0.93050  0.93040  0.93050\n",
      "2000.05.30  17:38  0.93040  0.93040  0.93030  0.93030\n",
      "2000.05.30  17:43  0.93010  0.93010  0.93000  0.93000\n",
      "2000.05.30  17:44  0.92980  0.92980  0.92970  0.92970\n",
      "2000.05.30  18:29  0.92980  0.92990  0.92980  0.92990\n",
      "...           ...      ...      ...      ...      ...\n",
      "2025.01.31  16:54  1.03604  1.03619  1.03573  1.03580\n",
      "2025.01.31  16:55  1.03579  1.03594  1.03575  1.03578\n",
      "2025.01.31  16:56  1.03581  1.03582  1.03566  1.03576\n",
      "2025.01.31  16:57  1.03575  1.03580  1.03571  1.03577\n",
      "2025.01.31  16:58  1.03575  1.03576  1.03563  1.03576\n",
      "\n",
      "[8380434 rows x 5 columns]\n"
     ]
    }
   ],
   "source": [
    "print(df.dtypes)\n",
    "print(df)"
   ]
  },
  {
   "cell_type": "code",
   "execution_count": null,
   "id": "9c0b1bd3-3e05-4222-b44e-bd00f14b6422",
   "metadata": {},
   "outputs": [],
   "source": []
  }
 ],
 "metadata": {
  "kernelspec": {
   "display_name": "Python 3 (ipykernel)",
   "language": "python",
   "name": "python3"
  },
  "language_info": {
   "codemirror_mode": {
    "name": "ipython",
    "version": 3
   },
   "file_extension": ".py",
   "mimetype": "text/x-python",
   "name": "python",
   "nbconvert_exporter": "python",
   "pygments_lexer": "ipython3",
   "version": "3.11.7"
  }
 },
 "nbformat": 4,
 "nbformat_minor": 5
}
